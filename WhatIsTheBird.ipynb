{
  "nbformat": 4,
  "nbformat_minor": 0,
  "metadata": {
    "colab": {
      "provenance": [],
      "gpuType": "T4"
    },
    "kernelspec": {
      "name": "python3",
      "display_name": "Python 3"
    },
    "language_info": {
      "name": "python"
    },
    "accelerator": "GPU"
  },
  "cells": [
    {
      "cell_type": "code",
      "execution_count": 10,
      "metadata": {
        "id": "OW14UEBgwEG2"
      },
      "outputs": [],
      "source": [
        "import torch\n",
        "import torch.nn as nn\n",
        "import torch.optim as optim\n",
        "from torch.utils.data import Dataset, DataLoader, random_split\n",
        "from torchvision import transforms, models\n",
        "import pandas as pd\n",
        "from PIL import Image\n",
        "import os\n",
        "from tqdm import tqdm\n",
        "import numpy as np\n",
        "from google.colab import drive\n",
        "import zipfile\n"
      ]
    },
    {
      "cell_type": "code",
      "source": [
        "torch.manual_seed(42)\n",
        "torch.cuda.manual_seed(42)\n",
        "np.random.seed(42)"
      ],
      "metadata": {
        "id": "zUj81ge5KqXZ"
      },
      "execution_count": 5,
      "outputs": []
    },
    {
      "cell_type": "code",
      "source": [
        "drive.mount('/content/drive')"
      ],
      "metadata": {
        "colab": {
          "base_uri": "https://localhost:8080/"
        },
        "id": "Im1e2rVOjm-u",
        "outputId": "6493d4d6-5681-4ec3-f55e-eef815e3ca34"
      },
      "execution_count": 6,
      "outputs": [
        {
          "output_type": "stream",
          "name": "stdout",
          "text": [
            "Mounted at /content/drive\n"
          ]
        }
      ]
    },
    {
      "cell_type": "code",
      "source": [
        "zip_path = '/content/drive/MyDrive/ColabNotebooks/public_tests.zip'\n",
        "extract_path = '/content/public_tests'"
      ],
      "metadata": {
        "id": "y8w6jFFOj3Pk"
      },
      "execution_count": 7,
      "outputs": []
    },
    {
      "cell_type": "code",
      "source": [
        "# Unzip dataset\n",
        "with zipfile.ZipFile(zip_path, 'r') as zip_ref:\n",
        "    zip_ref.extractall(extract_path)"
      ],
      "metadata": {
        "id": "mg2j9xjTj5O6"
      },
      "execution_count": 11,
      "outputs": []
    },
    {
      "cell_type": "code",
      "source": [
        "images_path = os.path.join(extract_path, '00_test_img_input', 'train', 'images')\n",
        "csv_path = os.path.join(extract_path, '00_test_img_input', 'train', 'gt.csv')"
      ],
      "metadata": {
        "id": "XtGJhNlZnjKL"
      },
      "execution_count": 12,
      "outputs": []
    },
    {
      "cell_type": "code",
      "source": [
        "class BirdDataset(Dataset):\n",
        "    def __init__(self, dataframe, img_dir, transform=None):\n",
        "        self.df = dataframe\n",
        "        self.img_dir = img_dir\n",
        "        self.transform = transform\n",
        "\n",
        "    def __len__(self):\n",
        "        return len(self.df)\n",
        "\n",
        "    def __getitem__(self, idx):\n",
        "        img_name = self.df.iloc[idx]['filename']\n",
        "        label = int(self.df.iloc[idx]['class_id'])\n",
        "        img_path = os.path.join(self.img_dir, img_name)\n",
        "        image = Image.open(img_path).convert('RGB')\n",
        "        if self.transform:\n",
        "            image = self.transform(image)\n",
        "        return image, label\n",
        "\n",
        "# Strong data augmentation\n",
        "train_transforms = transforms.Compose([\n",
        "    transforms.RandomResizedCrop(224, scale=(0.7, 1.0)),\n",
        "    transforms.RandomHorizontalFlip(),\n",
        "    transforms.RandomVerticalFlip(p=0.2),\n",
        "    transforms.RandomRotation(30),\n",
        "    transforms.ColorJitter(brightness=0.3, contrast=0.3, saturation=0.3, hue=0.1),\n",
        "    transforms.RandomAffine(degrees=0, translate=(0.1, 0.1), scale=(0.9, 1.1)),\n",
        "    transforms.RandomPerspective(distortion_scale=0.2, p=0.5),\n",
        "    transforms.ToTensor(),\n",
        "    transforms.Normalize(mean=[0.485, 0.456, 0.406], std=[0.229, 0.224, 0.225])\n",
        "])\n",
        "\n",
        "val_transforms = transforms.Compose([\n",
        "    transforms.Resize(256),\n",
        "    transforms.CenterCrop(224),\n",
        "    transforms.ToTensor(),\n",
        "    transforms.Normalize(mean=[0.485, 0.456, 0.406], std=[0.229, 0.224, 0.225])\n",
        "])\n",
        "\n",
        "df = pd.read_csv(csv_path)\n",
        "\n",
        "# Create datasets and data loaders\n",
        "full_dataset = BirdDataset(df, images_path, transform=train_transforms)"
      ],
      "metadata": {
        "id": "Jh5v0xo_qFa_"
      },
      "execution_count": 14,
      "outputs": []
    },
    {
      "cell_type": "code",
      "source": [
        "def stratified_split(dataset, train_ratio=0.8):\n",
        "    # Group by class\n",
        "    df = dataset.df\n",
        "    class_indices = {}\n",
        "    for class_id in df['class_id'].unique():\n",
        "        class_indices[class_id] = df[df['class_id'] == class_id].index.tolist()\n",
        "\n",
        "    train_indices = []\n",
        "    val_indices = []\n",
        "\n",
        "    # Split each class according to the ratio\n",
        "    for class_id, indices in class_indices.items():\n",
        "        np.random.shuffle(indices)\n",
        "        split_idx = int(len(indices) * train_ratio)\n",
        "        train_indices.extend(indices[:split_idx])\n",
        "        val_indices.extend(indices[split_idx:])\n",
        "\n",
        "    # Create new dataframes for train and val\n",
        "    train_df = df.iloc[train_indices].reset_index(drop=True)\n",
        "    val_df = df.iloc[val_indices].reset_index(drop=True)\n",
        "\n",
        "    # Create new datasets\n",
        "    train_dataset = BirdDataset(train_df, dataset.img_dir, transform=train_transforms)\n",
        "    val_dataset = BirdDataset(val_df, dataset.img_dir, transform=val_transforms)\n",
        "\n",
        "    return train_dataset, val_dataset\n",
        "\n",
        "train_dataset, val_dataset = stratified_split(full_dataset)\n",
        "\n",
        "print(f\"Training set size: {len(train_dataset)}\")\n",
        "print(f\"Validation set size: {len(val_dataset)}\")\n"
      ],
      "metadata": {
        "colab": {
          "base_uri": "https://localhost:8080/"
        },
        "id": "ISnfrpotLHof",
        "outputId": "72963538-cc0d-4991-888f-7c25d2109b24"
      },
      "execution_count": 15,
      "outputs": [
        {
          "output_type": "stream",
          "name": "stdout",
          "text": [
            "Training set size: 2000\n",
            "Validation set size: 500\n"
          ]
        }
      ]
    },
    {
      "cell_type": "code",
      "source": [
        "train_loader = DataLoader(train_dataset, batch_size=16, shuffle=True, num_workers=2, pin_memory=True)\n",
        "val_loader = DataLoader(val_dataset, batch_size=32, num_workers=2, pin_memory=True)"
      ],
      "metadata": {
        "id": "sdrtgiLNLLkt"
      },
      "execution_count": 16,
      "outputs": []
    },
    {
      "cell_type": "code",
      "source": [
        "device = torch.device('cuda' if torch.cuda.is_available() else 'cpu')\n",
        "print(f\"Using device: {device}\")\n",
        "\n",
        "# Set up model - using EfficientNet B2\n",
        "model = models.efficientnet_b2(pretrained=True)\n",
        "\n",
        "# Freeze most of the network\n",
        "for param in model.features.parameters():\n",
        "    param.requires_grad = False\n",
        "\n",
        "# Unfreeze the last few layers for fine-tuning\n",
        "for i, layer in enumerate(model.features):\n",
        "    if i >= len(model.features) - 4:  # Unfreeze the last 4 layers\n",
        "        for param in layer.parameters():\n",
        "            param.requires_grad = True\n",
        "\n",
        "# Modify the classifier\n",
        "num_classes = df['class_id'].nunique()\n",
        "model.classifier = nn.Sequential(\n",
        "    nn.Dropout(p=0.3, inplace=True),\n",
        "    nn.Linear(in_features=1408, out_features=512),\n",
        "    nn.BatchNorm1d(512),\n",
        "    nn.ReLU(),\n",
        "    nn.Dropout(0.4),\n",
        "    nn.Linear(512, 256),\n",
        "    nn.BatchNorm1d(256),\n",
        "    nn.ReLU(),\n",
        "    nn.Dropout(0.3),\n",
        "    nn.Linear(256, num_classes)\n",
        ")\n",
        "\n",
        "model = model.to(device)\n",
        "\n",
        "# Use a higher weight decay to reduce overfitting\n",
        "optimizer = optim.AdamW(\n",
        "    [\n",
        "        {'params': [p for n, p in model.features.named_parameters() if p.requires_grad], 'lr': 0.0001},\n",
        "        {'params': model.classifier.parameters(), 'lr': 0.001}\n",
        "    ],\n",
        "    weight_decay=1e-4\n",
        ")\n",
        "\n",
        "# Mixed precision training for speedup\n",
        "scaler = torch.cuda.amp.GradScaler()\n",
        "\n",
        "# Learning rate scheduler\n",
        "scheduler = optim.lr_scheduler.ReduceLROnPlateau(\n",
        "    optimizer, mode='max', factor=0.5, patience=2, verbose=True\n",
        ")\n",
        "\n",
        "# Loss function with label smoothing for better generalization\n",
        "criterion = nn.CrossEntropyLoss(label_smoothing=0.1)"
      ],
      "metadata": {
        "colab": {
          "base_uri": "https://localhost:8080/"
        },
        "id": "RcotlqaM_ObM",
        "outputId": "7d0fa9c6-e366-40b3-acbc-53913466df7d"
      },
      "execution_count": 17,
      "outputs": [
        {
          "output_type": "stream",
          "name": "stdout",
          "text": [
            "Using device: cuda\n"
          ]
        },
        {
          "output_type": "stream",
          "name": "stderr",
          "text": [
            "/usr/local/lib/python3.11/dist-packages/torchvision/models/_utils.py:208: UserWarning: The parameter 'pretrained' is deprecated since 0.13 and may be removed in the future, please use 'weights' instead.\n",
            "  warnings.warn(\n",
            "/usr/local/lib/python3.11/dist-packages/torchvision/models/_utils.py:223: UserWarning: Arguments other than a weight enum or `None` for 'weights' are deprecated since 0.13 and may be removed in the future. The current behavior is equivalent to passing `weights=EfficientNet_B2_Weights.IMAGENET1K_V1`. You can also use `weights=EfficientNet_B2_Weights.DEFAULT` to get the most up-to-date weights.\n",
            "  warnings.warn(msg)\n",
            "Downloading: \"https://download.pytorch.org/models/efficientnet_b2_rwightman-c35c1473.pth\" to /root/.cache/torch/hub/checkpoints/efficientnet_b2_rwightman-c35c1473.pth\n",
            "100%|██████████| 35.2M/35.2M [00:00<00:00, 48.4MB/s]\n",
            "<ipython-input-17-cf725d5577d1>:44: FutureWarning: `torch.cuda.amp.GradScaler(args...)` is deprecated. Please use `torch.amp.GradScaler('cuda', args...)` instead.\n",
            "  scaler = torch.cuda.amp.GradScaler()\n",
            "/usr/local/lib/python3.11/dist-packages/torch/optim/lr_scheduler.py:62: UserWarning: The verbose parameter is deprecated. Please use get_last_lr() to access the learning rate.\n",
            "  warnings.warn(\n"
          ]
        }
      ]
    },
    {
      "cell_type": "code",
      "source": [
        "# Evaluation function\n",
        "def evaluate(model, val_loader, topk=(1,)):\n",
        "    model.eval()\n",
        "    correct = {k: 0 for k in topk}\n",
        "    total = 0\n",
        "\n",
        "    with torch.no_grad():\n",
        "        for images, labels in val_loader:\n",
        "            images, labels = images.to(device), labels.to(device)\n",
        "            outputs = model(images)\n",
        "\n",
        "            # Calculate top-k accuracy\n",
        "            maxk = max(topk)\n",
        "            _, preds = outputs.topk(maxk, 1, True, True)\n",
        "            preds = preds.t()\n",
        "            correct_preds = preds.eq(labels.view(1, -1).expand_as(preds))\n",
        "\n",
        "            for k in topk:\n",
        "                correct[k] += correct_preds[:k].reshape(-1).float().sum(0, keepdim=True).item()\n",
        "\n",
        "            total += labels.size(0)\n",
        "\n",
        "    return {k: correct[k] / total for k in topk}"
      ],
      "metadata": {
        "id": "tqTaz7vU_T1v"
      },
      "execution_count": 18,
      "outputs": []
    },
    {
      "cell_type": "code",
      "source": [
        "def mixup_data(x, y, alpha=0.2):\n",
        "    \"\"\"Applies mixup augmentation to the batch.\"\"\"\n",
        "    if alpha > 0:\n",
        "        lam = np.random.beta(alpha, alpha)\n",
        "    else:\n",
        "        lam = 1\n",
        "\n",
        "    batch_size = x.size()[0]\n",
        "    index = torch.randperm(batch_size).to(device)\n",
        "\n",
        "    mixed_x = lam * x + (1 - lam) * x[index, :]\n",
        "    y_a, y_b = y, y[index]\n",
        "    return mixed_x, y_a, y_b, lam\n",
        "\n",
        "def mixup_criterion(criterion, pred, y_a, y_b, lam):\n",
        "    \"\"\"Calculates the mixup loss.\"\"\"\n",
        "    return lam * criterion(pred, y_a) + (1 - lam) * criterion(pred, y_b)\n"
      ],
      "metadata": {
        "id": "BB8UIgaU_VQh"
      },
      "execution_count": 19,
      "outputs": []
    },
    {
      "cell_type": "code",
      "source": [
        "# Training loop\n",
        "epochs = 25\n",
        "best_acc = 0.0\n",
        "patience = 7  # For early stopping\n",
        "no_improve = 0\n",
        "\n",
        "print(\"Starting training...\")\n",
        "for epoch in range(epochs):\n",
        "    # Training phase\n",
        "    model.train()\n",
        "    running_loss = 0.0\n",
        "    train_correct = 0\n",
        "    train_total = 0\n",
        "\n",
        "    loop = tqdm(train_loader, desc=f\"Epoch {epoch+1}/{epochs}\")\n",
        "    for images, labels in loop:\n",
        "        images, labels = images.to(device), labels.to(device)\n",
        "\n",
        "        # Apply mixup augmentation with 50% probability\n",
        "        if np.random.random() < 0.5:\n",
        "            images, labels_a, labels_b, lam = mixup_data(images, labels)\n",
        "            use_mixup = True\n",
        "        else:\n",
        "            use_mixup = False\n",
        "\n",
        "        # Mixed precision training\n",
        "        with torch.cuda.amp.autocast():\n",
        "            outputs = model(images)\n",
        "            if use_mixup:\n",
        "                loss = mixup_criterion(criterion, outputs, labels_a, labels_b, lam)\n",
        "            else:\n",
        "                loss = criterion(outputs, labels)\n",
        "\n",
        "        # Backward and optimize\n",
        "        optimizer.zero_grad()\n",
        "        scaler.scale(loss).backward()\n",
        "        scaler.step(optimizer)\n",
        "        scaler.update()\n",
        "\n",
        "        running_loss += loss.item()\n",
        "\n",
        "        # Calculate training accuracy (for non-mixup batches only)\n",
        "        if not use_mixup:\n",
        "            _, preds = torch.max(outputs, 1)\n",
        "            train_correct += (preds == labels).sum().item()\n",
        "            train_total += labels.size(0)\n",
        "            train_acc = train_correct / train_total if train_total > 0 else 0\n",
        "        else:\n",
        "            train_acc = 0  # Don't calculate for mixup batches\n",
        "\n",
        "        # Update progress bar\n",
        "        loop.set_postfix(loss=loss.item(), train_acc=f\"{train_acc:.4f}\")\n",
        "\n",
        "    # Validation phase\n",
        "    accuracies = evaluate(model, val_loader, topk=(1, 3, 5))\n",
        "    val_acc = accuracies[1]  # Top-1 accuracy\n",
        "\n",
        "    print(f\"Epoch {epoch+1}/{epochs}:\")\n",
        "    print(f\"  Loss: {running_loss/len(train_loader):.4f}\")\n",
        "    print(f\"  Validation Accuracy: {val_acc:.4f}\")\n",
        "    print(f\"  Top-3 Accuracy: {accuracies[3]:.4f}\")\n",
        "    print(f\"  Top-5 Accuracy: {accuracies[5]:.4f}\")\n",
        "\n",
        "    # Learning rate scheduling\n",
        "    scheduler.step(val_acc)\n",
        "\n",
        "    # Save best model\n",
        "    if val_acc > best_acc:\n",
        "        best_acc = val_acc\n",
        "        torch.save({\n",
        "            'epoch': epoch,\n",
        "            'model_state_dict': model.state_dict(),\n",
        "            'optimizer_state_dict': optimizer.state_dict(),\n",
        "            'accuracy': val_acc,\n",
        "        }, 'birds_model.pt')\n",
        "        print(f\"Saved model with best accuracy: {best_acc:.4f}\")\n",
        "        no_improve = 0\n",
        "    else:\n",
        "        no_improve += 1\n",
        "\n",
        "    # Early stopping\n",
        "    if no_improve >= patience:\n",
        "        print(f\"Early stopping triggered after {epoch+1} epochs\")\n",
        "        break\n",
        "\n",
        "    # Exit if target accuracy is reached\n",
        "    if best_acc >= 0.85:\n",
        "        print(f\"Target accuracy of 85% reached: {best_acc:.4f}\")\n",
        "        break\n",
        "\n",
        "print(f\"Training completed. Best validation accuracy: {best_acc:.4f}\")\n",
        "\n",
        "# Load the best model\n",
        "checkpoint = torch.load('birds_model.pt')\n",
        "model.load_state_dict(checkpoint['model_state_dict'])\n",
        "\n",
        "# Final evaluation\n",
        "final_accuracies = evaluate(model, val_loader, topk=(1, 3, 5))\n",
        "print(f\"Final evaluation:\")\n",
        "print(f\"  Top-1 Accuracy: {final_accuracies[1]:.4f}\")\n",
        "print(f\"  Top-3 Accuracy: {final_accuracies[3]:.4f}\")\n",
        "print(f\"  Top-5 Accuracy: {final_accuracies[5]:.4f}\")\n",
        "\n",
        "# If you need to use the model for inference later\n",
        "def predict_image(image_path, model, transform):\n",
        "    model.eval()\n",
        "    image = Image.open(image_path).convert('RGB')\n",
        "    image = transform(image).unsqueeze(0).to(device)\n",
        "\n",
        "    with torch.no_grad():\n",
        "        output = model(image)\n",
        "        _, pred = torch.max(output, 1)\n",
        "\n",
        "    return pred.item()"
      ],
      "metadata": {
        "colab": {
          "base_uri": "https://localhost:8080/"
        },
        "id": "IgwmxXrhvJj1",
        "outputId": "afac5d46-0b69-4dab-a768-f39c2b1cf0bc"
      },
      "execution_count": 20,
      "outputs": [
        {
          "metadata": {
            "tags": null
          },
          "name": "stdout",
          "output_type": "stream",
          "text": [
            "Starting training...\n"
          ]
        },
        {
          "metadata": {
            "tags": null
          },
          "name": "stderr",
          "output_type": "stream",
          "text": [
            "Epoch 1/25:   0%|          | 0/125 [00:00<?, ?it/s]<ipython-input-20-621983e8bfcd>:27: FutureWarning: `torch.cuda.amp.autocast(args...)` is deprecated. Please use `torch.amp.autocast('cuda', args...)` instead.\n",
            "  with torch.cuda.amp.autocast():\n",
            "Epoch 1/25: 100%|██████████| 125/125 [00:28<00:00,  4.46it/s, loss=3.15, train_acc=0.0000]\n"
          ]
        },
        {
          "metadata": {
            "tags": null
          },
          "name": "stdout",
          "output_type": "stream",
          "text": [
            "Epoch 1/25:\n",
            "  Loss: 3.5172\n",
            "  Validation Accuracy: 0.4620\n",
            "  Top-3 Accuracy: 0.7400\n",
            "  Top-5 Accuracy: 0.8600\n",
            "Saved model with best accuracy: 0.4620\n"
          ]
        },
        {
          "metadata": {
            "tags": null
          },
          "name": "stderr",
          "output_type": "stream",
          "text": [
            "Epoch 2/25: 100%|██████████| 125/125 [00:25<00:00,  4.84it/s, loss=2.28, train_acc=0.0000]\n"
          ]
        },
        {
          "metadata": {
            "tags": null
          },
          "name": "stdout",
          "output_type": "stream",
          "text": [
            "Epoch 2/25:\n",
            "  Loss: 2.6452\n",
            "  Validation Accuracy: 0.6360\n",
            "  Top-3 Accuracy: 0.8800\n",
            "  Top-5 Accuracy: 0.9560\n",
            "Saved model with best accuracy: 0.6360\n"
          ]
        },
        {
          "metadata": {
            "tags": null
          },
          "name": "stderr",
          "output_type": "stream",
          "text": [
            "Epoch 3/25: 100%|██████████| 125/125 [00:25<00:00,  4.87it/s, loss=2.48, train_acc=0.0000]\n"
          ]
        },
        {
          "metadata": {
            "tags": null
          },
          "name": "stdout",
          "output_type": "stream",
          "text": [
            "Epoch 3/25:\n",
            "  Loss: 2.3497\n",
            "  Validation Accuracy: 0.6880\n",
            "  Top-3 Accuracy: 0.9160\n",
            "  Top-5 Accuracy: 0.9700\n",
            "Saved model with best accuracy: 0.6880\n"
          ]
        },
        {
          "metadata": {
            "tags": null
          },
          "name": "stderr",
          "output_type": "stream",
          "text": [
            "Epoch 4/25: 100%|██████████| 125/125 [00:25<00:00,  4.92it/s, loss=1.95, train_acc=0.5759]\n"
          ]
        },
        {
          "metadata": {
            "tags": null
          },
          "name": "stdout",
          "output_type": "stream",
          "text": [
            "Epoch 4/25:\n",
            "  Loss: 2.0634\n",
            "  Validation Accuracy: 0.7380\n",
            "  Top-3 Accuracy: 0.9240\n",
            "  Top-5 Accuracy: 0.9600\n",
            "Saved model with best accuracy: 0.7380\n"
          ]
        },
        {
          "metadata": {
            "tags": null
          },
          "name": "stderr",
          "output_type": "stream",
          "text": [
            "Epoch 5/25: 100%|██████████| 125/125 [00:25<00:00,  4.89it/s, loss=3.43, train_acc=0.0000]\n"
          ]
        },
        {
          "metadata": {
            "tags": null
          },
          "name": "stdout",
          "output_type": "stream",
          "text": [
            "Epoch 5/25:\n",
            "  Loss: 2.1011\n",
            "  Validation Accuracy: 0.7500\n",
            "  Top-3 Accuracy: 0.9200\n",
            "  Top-5 Accuracy: 0.9620\n",
            "Saved model with best accuracy: 0.7500\n"
          ]
        },
        {
          "metadata": {
            "tags": null
          },
          "name": "stderr",
          "output_type": "stream",
          "text": [
            "Epoch 6/25: 100%|██████████| 125/125 [00:25<00:00,  4.94it/s, loss=2.81, train_acc=0.0000]\n"
          ]
        },
        {
          "metadata": {
            "tags": null
          },
          "name": "stdout",
          "output_type": "stream",
          "text": [
            "Epoch 6/25:\n",
            "  Loss: 1.9038\n",
            "  Validation Accuracy: 0.7680\n",
            "  Top-3 Accuracy: 0.9260\n",
            "  Top-5 Accuracy: 0.9720\n",
            "Saved model with best accuracy: 0.7680\n"
          ]
        },
        {
          "metadata": {
            "tags": null
          },
          "name": "stderr",
          "output_type": "stream",
          "text": [
            "Epoch 7/25: 100%|██████████| 125/125 [00:25<00:00,  4.95it/s, loss=2.05, train_acc=0.6875]\n"
          ]
        },
        {
          "metadata": {
            "tags": null
          },
          "name": "stdout",
          "output_type": "stream",
          "text": [
            "Epoch 7/25:\n",
            "  Loss: 1.9008\n",
            "  Validation Accuracy: 0.7580\n",
            "  Top-3 Accuracy: 0.9260\n",
            "  Top-5 Accuracy: 0.9660\n"
          ]
        },
        {
          "metadata": {
            "tags": null
          },
          "name": "stderr",
          "output_type": "stream",
          "text": [
            "Epoch 8/25: 100%|██████████| 125/125 [00:25<00:00,  4.93it/s, loss=1.27, train_acc=0.7245]\n"
          ]
        },
        {
          "metadata": {
            "tags": null
          },
          "name": "stdout",
          "output_type": "stream",
          "text": [
            "Epoch 8/25:\n",
            "  Loss: 1.7768\n",
            "  Validation Accuracy: 0.7740\n",
            "  Top-3 Accuracy: 0.9360\n",
            "  Top-5 Accuracy: 0.9760\n",
            "Saved model with best accuracy: 0.7740\n"
          ]
        },
        {
          "metadata": {
            "tags": null
          },
          "name": "stderr",
          "output_type": "stream",
          "text": [
            "Epoch 9/25: 100%|██████████| 125/125 [00:25<00:00,  4.96it/s, loss=1.48, train_acc=0.0000]\n"
          ]
        },
        {
          "metadata": {
            "tags": null
          },
          "name": "stdout",
          "output_type": "stream",
          "text": [
            "Epoch 9/25:\n",
            "  Loss: 1.7731\n",
            "  Validation Accuracy: 0.7920\n",
            "  Top-3 Accuracy: 0.9280\n",
            "  Top-5 Accuracy: 0.9640\n",
            "Saved model with best accuracy: 0.7920\n"
          ]
        },
        {
          "metadata": {
            "tags": null
          },
          "name": "stderr",
          "output_type": "stream",
          "text": [
            "Epoch 10/25: 100%|██████████| 125/125 [00:30<00:00,  4.08it/s, loss=1.34, train_acc=0.7596]\n"
          ]
        },
        {
          "metadata": {
            "tags": null
          },
          "name": "stdout",
          "output_type": "stream",
          "text": [
            "Epoch 10/25:\n",
            "  Loss: 1.7405\n",
            "  Validation Accuracy: 0.7920\n",
            "  Top-3 Accuracy: 0.9500\n",
            "  Top-5 Accuracy: 0.9720\n"
          ]
        },
        {
          "metadata": {
            "tags": null
          },
          "name": "stderr",
          "output_type": "stream",
          "text": [
            "Epoch 11/25: 100%|██████████| 125/125 [00:23<00:00,  5.27it/s, loss=1.33, train_acc=0.0000]\n"
          ]
        },
        {
          "metadata": {
            "tags": null
          },
          "name": "stdout",
          "output_type": "stream",
          "text": [
            "Epoch 11/25:\n",
            "  Loss: 1.6483\n",
            "  Validation Accuracy: 0.8000\n",
            "  Top-3 Accuracy: 0.9500\n",
            "  Top-5 Accuracy: 0.9720\n",
            "Saved model with best accuracy: 0.8000\n"
          ]
        },
        {
          "metadata": {
            "tags": null
          },
          "name": "stderr",
          "output_type": "stream",
          "text": [
            "Epoch 12/25: 100%|██████████| 125/125 [00:23<00:00,  5.24it/s, loss=1.75, train_acc=0.7817]\n"
          ]
        },
        {
          "metadata": {
            "tags": null
          },
          "name": "stdout",
          "output_type": "stream",
          "text": [
            "Epoch 12/25:\n",
            "  Loss: 1.5853\n",
            "  Validation Accuracy: 0.7960\n",
            "  Top-3 Accuracy: 0.9420\n",
            "  Top-5 Accuracy: 0.9720\n"
          ]
        },
        {
          "metadata": {
            "tags": null
          },
          "name": "stderr",
          "output_type": "stream",
          "text": [
            "Epoch 13/25: 100%|██████████| 125/125 [00:25<00:00,  4.98it/s, loss=1.33, train_acc=0.8179]\n"
          ]
        },
        {
          "metadata": {
            "tags": null
          },
          "name": "stdout",
          "output_type": "stream",
          "text": [
            "Epoch 13/25:\n",
            "  Loss: 1.5450\n",
            "  Validation Accuracy: 0.7860\n",
            "  Top-3 Accuracy: 0.9520\n",
            "  Top-5 Accuracy: 0.9680\n"
          ]
        },
        {
          "metadata": {
            "tags": null
          },
          "name": "stderr",
          "output_type": "stream",
          "text": [
            "Epoch 14/25: 100%|██████████| 125/125 [00:24<00:00,  5.12it/s, loss=1.63, train_acc=0.8317]\n"
          ]
        },
        {
          "metadata": {
            "tags": null
          },
          "name": "stdout",
          "output_type": "stream",
          "text": [
            "Epoch 14/25:\n",
            "  Loss: 1.5316\n",
            "  Validation Accuracy: 0.7900\n",
            "  Top-3 Accuracy: 0.9560\n",
            "  Top-5 Accuracy: 0.9680\n"
          ]
        },
        {
          "metadata": {
            "tags": null
          },
          "name": "stderr",
          "output_type": "stream",
          "text": [
            "Epoch 15/25: 100%|██████████| 125/125 [00:24<00:00,  5.17it/s, loss=1.67, train_acc=0.8478]\n"
          ]
        },
        {
          "metadata": {
            "tags": null
          },
          "name": "stdout",
          "output_type": "stream",
          "text": [
            "Epoch 15/25:\n",
            "  Loss: 1.4723\n",
            "  Validation Accuracy: 0.8020\n",
            "  Top-3 Accuracy: 0.9480\n",
            "  Top-5 Accuracy: 0.9660\n",
            "Saved model with best accuracy: 0.8020\n"
          ]
        },
        {
          "metadata": {
            "tags": null
          },
          "name": "stderr",
          "output_type": "stream",
          "text": [
            "Epoch 16/25: 100%|██████████| 125/125 [00:24<00:00,  5.02it/s, loss=1.16, train_acc=0.0000]\n"
          ]
        },
        {
          "metadata": {
            "tags": null
          },
          "name": "stdout",
          "output_type": "stream",
          "text": [
            "Epoch 16/25:\n",
            "  Loss: 1.4166\n",
            "  Validation Accuracy: 0.8120\n",
            "  Top-3 Accuracy: 0.9540\n",
            "  Top-5 Accuracy: 0.9680\n",
            "Saved model with best accuracy: 0.8120\n"
          ]
        },
        {
          "metadata": {
            "tags": null
          },
          "name": "stderr",
          "output_type": "stream",
          "text": [
            "Epoch 17/25: 100%|██████████| 125/125 [00:24<00:00,  5.12it/s, loss=1.12, train_acc=0.8681]\n"
          ]
        },
        {
          "metadata": {
            "tags": null
          },
          "name": "stdout",
          "output_type": "stream",
          "text": [
            "Epoch 17/25:\n",
            "  Loss: 1.3954\n",
            "  Validation Accuracy: 0.8280\n",
            "  Top-3 Accuracy: 0.9500\n",
            "  Top-5 Accuracy: 0.9720\n",
            "Saved model with best accuracy: 0.8280\n"
          ]
        },
        {
          "metadata": {
            "tags": null
          },
          "name": "stderr",
          "output_type": "stream",
          "text": [
            "Epoch 18/25: 100%|██████████| 125/125 [00:24<00:00,  5.13it/s, loss=1.42, train_acc=0.8904]\n"
          ]
        },
        {
          "metadata": {
            "tags": null
          },
          "name": "stdout",
          "output_type": "stream",
          "text": [
            "Epoch 18/25:\n",
            "  Loss: 1.4544\n",
            "  Validation Accuracy: 0.8240\n",
            "  Top-3 Accuracy: 0.9600\n",
            "  Top-5 Accuracy: 0.9700\n"
          ]
        },
        {
          "metadata": {
            "tags": null
          },
          "name": "stderr",
          "output_type": "stream",
          "text": [
            "Epoch 19/25: 100%|██████████| 125/125 [00:24<00:00,  5.13it/s, loss=1.28, train_acc=0.0000]\n"
          ]
        },
        {
          "metadata": {
            "tags": null
          },
          "name": "stdout",
          "output_type": "stream",
          "text": [
            "Epoch 19/25:\n",
            "  Loss: 1.3391\n",
            "  Validation Accuracy: 0.7980\n",
            "  Top-3 Accuracy: 0.9500\n",
            "  Top-5 Accuracy: 0.9680\n"
          ]
        },
        {
          "metadata": {
            "tags": null
          },
          "name": "stderr",
          "output_type": "stream",
          "text": [
            "Epoch 20/25: 100%|██████████| 125/125 [00:24<00:00,  5.03it/s, loss=1.16, train_acc=0.0000]\n"
          ]
        },
        {
          "metadata": {
            "tags": null
          },
          "name": "stdout",
          "output_type": "stream",
          "text": [
            "Epoch 20/25:\n",
            "  Loss: 1.5024\n",
            "  Validation Accuracy: 0.8180\n",
            "  Top-3 Accuracy: 0.9540\n",
            "  Top-5 Accuracy: 0.9680\n"
          ]
        },
        {
          "metadata": {
            "tags": null
          },
          "name": "stderr",
          "output_type": "stream",
          "text": [
            "Epoch 21/25: 100%|██████████| 125/125 [00:24<00:00,  5.07it/s, loss=0.878, train_acc=0.8875]\n"
          ]
        },
        {
          "metadata": {
            "tags": null
          },
          "name": "stdout",
          "output_type": "stream",
          "text": [
            "Epoch 21/25:\n",
            "  Loss: 1.3717\n",
            "  Validation Accuracy: 0.8260\n",
            "  Top-3 Accuracy: 0.9560\n",
            "  Top-5 Accuracy: 0.9700\n"
          ]
        },
        {
          "metadata": {
            "tags": null
          },
          "name": "stderr",
          "output_type": "stream",
          "text": [
            "Epoch 22/25: 100%|██████████| 125/125 [00:24<00:00,  5.07it/s, loss=0.996, train_acc=0.9022]\n"
          ]
        },
        {
          "metadata": {
            "tags": null
          },
          "name": "stdout",
          "output_type": "stream",
          "text": [
            "Epoch 22/25:\n",
            "  Loss: 1.3681\n",
            "  Validation Accuracy: 0.8300\n",
            "  Top-3 Accuracy: 0.9560\n",
            "  Top-5 Accuracy: 0.9720\n",
            "Saved model with best accuracy: 0.8300\n"
          ]
        },
        {
          "output_type": "stream",
          "name": "stderr",
          "text": [
            "Epoch 23/25: 100%|██████████| 125/125 [00:24<00:00,  5.02it/s, loss=0.953, train_acc=0.8952]\n"
          ]
        },
        {
          "output_type": "stream",
          "name": "stdout",
          "text": [
            "Epoch 23/25:\n",
            "  Loss: 1.3833\n",
            "  Validation Accuracy: 0.8300\n",
            "  Top-3 Accuracy: 0.9520\n",
            "  Top-5 Accuracy: 0.9720\n"
          ]
        },
        {
          "output_type": "stream",
          "name": "stderr",
          "text": [
            "Epoch 24/25: 100%|██████████| 125/125 [00:24<00:00,  5.00it/s, loss=0.92, train_acc=0.9090]\n"
          ]
        },
        {
          "output_type": "stream",
          "name": "stdout",
          "text": [
            "Epoch 24/25:\n",
            "  Loss: 1.3146\n",
            "  Validation Accuracy: 0.8380\n",
            "  Top-3 Accuracy: 0.9600\n",
            "  Top-5 Accuracy: 0.9760\n",
            "Saved model with best accuracy: 0.8380\n"
          ]
        },
        {
          "output_type": "stream",
          "name": "stderr",
          "text": [
            "Epoch 25/25: 100%|██████████| 125/125 [00:25<00:00,  4.96it/s, loss=0.946, train_acc=0.9032]\n"
          ]
        },
        {
          "output_type": "stream",
          "name": "stdout",
          "text": [
            "Epoch 25/25:\n",
            "  Loss: 1.3288\n",
            "  Validation Accuracy: 0.8300\n",
            "  Top-3 Accuracy: 0.9600\n",
            "  Top-5 Accuracy: 0.9680\n",
            "Training completed. Best validation accuracy: 0.8380\n",
            "Final evaluation:\n",
            "  Top-1 Accuracy: 0.8380\n",
            "  Top-3 Accuracy: 0.9600\n",
            "  Top-5 Accuracy: 0.9760\n"
          ]
        }
      ]
    }
  ]
}